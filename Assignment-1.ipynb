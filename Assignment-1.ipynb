{
 "cells": [
  {
   "cell_type": "markdown",
   "id": "2c0ebda0",
   "metadata": {},
   "source": [
    "# 1. In the below elements which of them are values or an expression? eg:- values can be integer or string and expressions will be mathematical operators.\n",
    "* \n",
    "'hello'\n",
    "-87.8\n",
    "- \n",
    "/ \n",
    "+\t\n",
    "6 \n"
   ]
  },
  {
   "cell_type": "code",
   "execution_count": 7,
   "id": "a1c273d8",
   "metadata": {},
   "outputs": [],
   "source": [
    "# Ans: Values: 'hello',  -87.8, 6\n",
    "# Expression: *  -  /  +\n"
   ]
  },
  {
   "cell_type": "markdown",
   "id": "13954d17",
   "metadata": {},
   "source": [
    "# 2. What is the difference between string and variable?"
   ]
  },
  {
   "cell_type": "code",
   "execution_count": 8,
   "id": "69ab2544",
   "metadata": {},
   "outputs": [],
   "source": [
    "# Ans: String is a set of characters. It is one of data types with key work str.  variable are the named containers. An object is assigned to a variable and we can refer to that object by its respective variable name. "
   ]
  },
  {
   "cell_type": "markdown",
   "id": "c0de8fd6",
   "metadata": {},
   "source": [
    "# 3. Describe three different data types."
   ]
  },
  {
   "cell_type": "code",
   "execution_count": 9,
   "id": "77743293",
   "metadata": {},
   "outputs": [],
   "source": [
    "#Broadly we have 3 data types, Numeric, Boolean and string data type. In numeric data type we have integer (key word int) which takes whole numbers as input but not decimal numbers and float (key word) which takes whole number and decimals as input. If we give decimal as input to int data type then it will return only whole number and ignoring the decimal values. String data type allways is enclosed in single or double quotes. It is represented by keyword as str. Any value inside quotes is a character, even a numeric value. Boolean data type may use logical operator and gives output as True or False."
   ]
  },
  {
   "cell_type": "markdown",
   "id": "6eb7154e",
   "metadata": {},
   "source": [
    "# 4. What is an expression made up of? What do all expressions do?"
   ]
  },
  {
   "cell_type": "code",
   "execution_count": 15,
   "id": "5d043334",
   "metadata": {},
   "outputs": [
    {
     "data": {
      "text/plain": [
       "'\\nAn expression is a combination of operators and operands that is interpreted to produce some other value. Like in any programming language,  in python also an expression is evaluated as per the precedence of its operators. We have many different types of expressions in Python. We have broadly 8 types of expressions as follows\\nConstant Expressions: These are the expressions that have constant values only Eg: x=1+2\\nArithmetic Expressions: An arithmetic expression is a combination of numeric values, operators, and sometimes parenthesis Eg: x+y\\nIntegral Expressions: These are the kind of expressions that produce only integer results after all computations and type conversions. Eg: x=int(y)\\nFloating Expressions: These are the kind of expressions which produce floating point numbers as result after all computations and type conversions Ex: x=float(y)\\nRelational Expressions: In these types of expressions, arithmetic expressions are written on both sides of relational operator (> , < , >= , <=,==). Those arithmetic expressions are evaluated first, and then compared as per relational operator and produce a boolean output in the end. These expressions are also called Boolean expressions. Eg: (x+y)<=(q+w)\\n Bitwise Expressions: These are the kind of expressions in which computations are performed at bit level.\\na = 12\\nx = a >> 2\\ny = a << 1\\nprint(x, y)\\nOutput: 3 24\\nCombinational Expressions: We can also use different types of expressions in a single expression, and that will be termed as combinational expressions\\nEg: a = 16\\nb = 12\\nc = a + (b >> 1)\\nprint(c)\\nOutput: 22\\n'"
      ]
     },
     "execution_count": 15,
     "metadata": {},
     "output_type": "execute_result"
    }
   ],
   "source": [
    "\"\"\"\n",
    "An expression is a combination of operators and operands that is interpreted to produce some other value. Like in any programming language,  in python also an expression is evaluated as per the precedence of its operators. We have many different types of expressions in Python. We have broadly 8 types of expressions as follows\n",
    "Constant Expressions: These are the expressions that have constant values only Eg: x=1+2\n",
    "Arithmetic Expressions: An arithmetic expression is a combination of numeric values, operators, and sometimes parenthesis Eg: x+y\n",
    "Integral Expressions: These are the kind of expressions that produce only integer results after all computations and type conversions. Eg: x=int(y)\n",
    "Floating Expressions: These are the kind of expressions which produce floating point numbers as result after all computations and type conversions Ex: x=float(y)\n",
    "Relational Expressions: In these types of expressions, arithmetic expressions are written on both sides of relational operator (> , < , >= , <=,==). Those arithmetic expressions are evaluated first, and then compared as per relational operator and produce a boolean output in the end. These expressions are also called Boolean expressions. Eg: (x+y)<=(q+w)\n",
    " Bitwise Expressions: These are the kind of expressions in which computations are performed at bit level.\n",
    "a = 12\n",
    "x = a >> 2\n",
    "y = a << 1\n",
    "print(x, y)\n",
    "Output: 3 24\n",
    "Combinational Expressions: We can also use different types of expressions in a single expression, and that will be termed as combinational expressions\n",
    "Eg: a = 16\n",
    "b = 12\n",
    "c = a + (b >> 1)\n",
    "print(c)\n",
    "Output: 22\n",
    "\"\"\""
   ]
  },
  {
   "cell_type": "markdown",
   "id": "3be679b3",
   "metadata": {},
   "source": [
    "# 5. This assignment statements, like spam = 10. What is the difference between an expression and a statement?"
   ]
  },
  {
   "cell_type": "code",
   "execution_count": null,
   "id": "edefd70e",
   "metadata": {},
   "outputs": [],
   "source": [
    "\"\"\"\n",
    "Statement in Python: \n",
    "1.A statement is an instruction that the Python interpreter can execute. A statement in Python is used for creating variables or for displaying values.\n",
    "2. A statement in Python is not evaluated for some results.\n",
    "3. The execution of a statement changes the state of the variable.\n",
    "4. A statement can be an expression.\n",
    "5. Example : x = 3x=3    Output : 33\n",
    "\n",
    "Expression in Python:\n",
    "1. The expression in Python produces some value or result after being interpreted by the Python interpreter.\n",
    "2. An expression in Python is evaluated for some results.\n",
    "3. The expression evaluation does not result in any state change\n",
    "4. An expression is not a statement.\n",
    "5. Example: x = 3 + 6x=3+6.  output: Output : 99\n",
    "\n",
    "\n",
    "\"\"\""
   ]
  },
  {
   "cell_type": "markdown",
   "id": "d87a9794",
   "metadata": {},
   "source": [
    "# 6. After running the following code, what does the variable bacon contain?\n",
    "bacon = 22\n",
    "bacon + 1\n"
   ]
  },
  {
   "cell_type": "code",
   "execution_count": 16,
   "id": "0ea3e3e9",
   "metadata": {},
   "outputs": [],
   "source": [
    "#Ans: Output: 23"
   ]
  },
  {
   "cell_type": "markdown",
   "id": "3424183c",
   "metadata": {},
   "source": [
    "# 7. What should the values of the following two terms be?\n",
    "'spam' + 'spamspam'\n",
    "'spam' * 3\n"
   ]
  },
  {
   "cell_type": "code",
   "execution_count": null,
   "id": "f07ab8df",
   "metadata": {},
   "outputs": [],
   "source": []
  },
  {
   "cell_type": "code",
   "execution_count": 11,
   "id": "43a37276",
   "metadata": {},
   "outputs": [],
   "source": [
    "# Ans: 'spamspamspam'\n",
    "#        'spamspamspam'\n"
   ]
  },
  {
   "cell_type": "markdown",
   "id": "5eee1c13",
   "metadata": {},
   "source": [
    "# 8. Why is eggs a valid variable name while 100 is invalid?"
   ]
  },
  {
   "cell_type": "code",
   "execution_count": 13,
   "id": "30ad4d2c",
   "metadata": {},
   "outputs": [],
   "source": [
    "#Ans: Variable name cannot be numeric or start with numeric or cant be a key word. 100 is numeric so its invalid"
   ]
  },
  {
   "cell_type": "markdown",
   "id": "e3c66b8d",
   "metadata": {},
   "source": [
    "# 9. What three functions can be used to get the integer, floating-point number, or string version of a value?\n"
   ]
  },
  {
   "cell_type": "code",
   "execution_count": 14,
   "id": "617b4dbe",
   "metadata": {},
   "outputs": [],
   "source": [
    "# Ans: Int()\n",
    "#      float()\n",
    "#     str()\n"
   ]
  },
  {
   "cell_type": "markdown",
   "id": "cf30f64e",
   "metadata": {},
   "source": [
    "# 10. Why does this expression cause an error? How can you fix it?\n",
    "'I have eaten ' + 99 + ' burritos.'\n"
   ]
  },
  {
   "cell_type": "markdown",
   "id": "a252048a",
   "metadata": {},
   "source": [
    "\n",
    "# Ans: we have to assign a variable to 99. \n",
    "A=”99”\n",
    "Print('I have eaten ' + A + ' burritos.')"
   ]
  },
  {
   "cell_type": "code",
   "execution_count": null,
   "id": "25417f7c",
   "metadata": {},
   "outputs": [],
   "source": []
  }
 ],
 "metadata": {
  "kernelspec": {
   "display_name": "Python 3 (ipykernel)",
   "language": "python",
   "name": "python3"
  },
  "language_info": {
   "codemirror_mode": {
    "name": "ipython",
    "version": 3
   },
   "file_extension": ".py",
   "mimetype": "text/x-python",
   "name": "python",
   "nbconvert_exporter": "python",
   "pygments_lexer": "ipython3",
   "version": "3.9.12"
  }
 },
 "nbformat": 4,
 "nbformat_minor": 5
}
