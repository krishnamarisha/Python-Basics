{
 "cells": [
  {
   "cell_type": "code",
   "execution_count": 30,
   "id": "bd046f22",
   "metadata": {},
   "outputs": [],
   "source": [
    "def test1(func):\n",
    "    def test2():\n",
    "        print(\"I am inside test2\")\n",
    "        func()\n",
    "        \n",
    "        print(\"Function executed\")\n",
    "        return func()\n",
    "    return test2\n",
    "        "
   ]
  },
  {
   "cell_type": "code",
   "execution_count": 31,
   "id": "c189176b",
   "metadata": {},
   "outputs": [],
   "source": [
    "@test1\n",
    "def test3():\n",
    "    print(\"This is my test3\")"
   ]
  },
  {
   "cell_type": "code",
   "execution_count": 32,
   "id": "924f11d4",
   "metadata": {},
   "outputs": [
    {
     "name": "stdout",
     "output_type": "stream",
     "text": [
      "I am inside test2\n",
      "This is my test3\n",
      "Function executed\n",
      "This is my test3\n"
     ]
    }
   ],
   "source": [
    "test3()"
   ]
  },
  {
   "cell_type": "code",
   "execution_count": 33,
   "id": "afd09770",
   "metadata": {},
   "outputs": [],
   "source": [
    "@test1\n",
    "def test4():\n",
    "    return 3+9\n"
   ]
  },
  {
   "cell_type": "code",
   "execution_count": 34,
   "id": "77184aba",
   "metadata": {},
   "outputs": [
    {
     "name": "stdout",
     "output_type": "stream",
     "text": [
      "I am inside test2\n",
      "Function executed\n"
     ]
    },
    {
     "data": {
      "text/plain": [
       "12"
      ]
     },
     "execution_count": 34,
     "metadata": {},
     "output_type": "execute_result"
    }
   ],
   "source": [
    "test4()"
   ]
  },
  {
   "cell_type": "code",
   "execution_count": 35,
   "id": "7644e3d5",
   "metadata": {},
   "outputs": [],
   "source": [
    "def test5():\n",
    "    return 4+5"
   ]
  },
  {
   "cell_type": "code",
   "execution_count": 36,
   "id": "fb7c8608",
   "metadata": {},
   "outputs": [
    {
     "data": {
      "text/plain": [
       "int"
      ]
     },
     "execution_count": 36,
     "metadata": {},
     "output_type": "execute_result"
    }
   ],
   "source": [
    "type(test5())"
   ]
  },
  {
   "cell_type": "code",
   "execution_count": 37,
   "id": "705e370f",
   "metadata": {},
   "outputs": [
    {
     "data": {
      "text/plain": [
       "64"
      ]
     },
     "execution_count": 37,
     "metadata": {},
     "output_type": "execute_result"
    }
   ],
   "source": [
    "test5()+55"
   ]
  },
  {
   "cell_type": "code",
   "execution_count": 77,
   "id": "80781b10",
   "metadata": {},
   "outputs": [],
   "source": [
    "def test6(func):\n",
    "    def test7(*args,**kwarg):\n",
    "        func(*args,**kwarg)\n",
    "        print(func(*args,**kwarg))\n",
    "        return func(*args,**kwarg)\n",
    "        print(\"This is my decorator function\")\n",
    "    return test7"
   ]
  },
  {
   "cell_type": "code",
   "execution_count": 78,
   "id": "1bee80a9",
   "metadata": {},
   "outputs": [],
   "source": [
    "def test8():\n",
    "    return 5+7"
   ]
  },
  {
   "cell_type": "code",
   "execution_count": 79,
   "id": "4f33f244",
   "metadata": {},
   "outputs": [
    {
     "data": {
      "text/plain": [
       "24"
      ]
     },
     "execution_count": 79,
     "metadata": {},
     "output_type": "execute_result"
    }
   ],
   "source": [
    "test8()+12"
   ]
  },
  {
   "cell_type": "code",
   "execution_count": 80,
   "id": "23bec72a",
   "metadata": {},
   "outputs": [],
   "source": [
    "@test6\n",
    "def test8():\n",
    "    return 5+7"
   ]
  },
  {
   "cell_type": "code",
   "execution_count": 81,
   "id": "b5e6f0c1",
   "metadata": {},
   "outputs": [
    {
     "name": "stdout",
     "output_type": "stream",
     "text": [
      "12\n"
     ]
    },
    {
     "data": {
      "text/plain": [
       "12"
      ]
     },
     "execution_count": 81,
     "metadata": {},
     "output_type": "execute_result"
    }
   ],
   "source": [
    "test8()"
   ]
  },
  {
   "cell_type": "code",
   "execution_count": 82,
   "id": "bfb4aab1",
   "metadata": {},
   "outputs": [
    {
     "name": "stdout",
     "output_type": "stream",
     "text": [
      "12\n"
     ]
    },
    {
     "data": {
      "text/plain": [
       "112"
      ]
     },
     "execution_count": 82,
     "metadata": {},
     "output_type": "execute_result"
    }
   ],
   "source": [
    "test8()+100"
   ]
  },
  {
   "cell_type": "code",
   "execution_count": 83,
   "id": "8268b17a",
   "metadata": {},
   "outputs": [
    {
     "name": "stdout",
     "output_type": "stream",
     "text": [
      "12\n"
     ]
    },
    {
     "data": {
      "text/plain": [
       "int"
      ]
     },
     "execution_count": 83,
     "metadata": {},
     "output_type": "execute_result"
    }
   ],
   "source": [
    "type(test8())"
   ]
  },
  {
   "cell_type": "code",
   "execution_count": 84,
   "id": "d262a6c3",
   "metadata": {},
   "outputs": [],
   "source": [
    "#print will give none type so no primitive operation can be done but return will do"
   ]
  },
  {
   "cell_type": "code",
   "execution_count": 85,
   "id": "21eefe18",
   "metadata": {},
   "outputs": [],
   "source": [
    "@test6\n",
    "def test8(a,b):\n",
    "    return a+b"
   ]
  },
  {
   "cell_type": "code",
   "execution_count": 86,
   "id": "25c694de",
   "metadata": {},
   "outputs": [
    {
     "name": "stdout",
     "output_type": "stream",
     "text": [
      "SudhKumar\n"
     ]
    },
    {
     "data": {
      "text/plain": [
       "'SudhKumar'"
      ]
     },
     "execution_count": 86,
     "metadata": {},
     "output_type": "execute_result"
    }
   ],
   "source": [
    "test8(\"Sudh\",\"Kumar\")"
   ]
  },
  {
   "cell_type": "code",
   "execution_count": 87,
   "id": "a9b832d2",
   "metadata": {},
   "outputs": [],
   "source": [
    "@test6\n",
    "def test9(**kwarg):\n",
    "    return kwarg\n"
   ]
  },
  {
   "cell_type": "code",
   "execution_count": 88,
   "id": "1b1927fe",
   "metadata": {},
   "outputs": [
    {
     "name": "stdout",
     "output_type": "stream",
     "text": [
      "{'a': 89, 'b': 86}\n"
     ]
    },
    {
     "data": {
      "text/plain": [
       "{'a': 89, 'b': 86}"
      ]
     },
     "execution_count": 88,
     "metadata": {},
     "output_type": "execute_result"
    }
   ],
   "source": [
    "test9(a=89, b=86)"
   ]
  },
  {
   "cell_type": "markdown",
   "id": "debd22b2",
   "metadata": {},
   "source": [
    "# LAMBDA function"
   ]
  },
  {
   "cell_type": "code",
   "execution_count": 89,
   "id": "1e40e79c",
   "metadata": {},
   "outputs": [],
   "source": [
    "def test10(a,b):\n",
    "    return a+b"
   ]
  },
  {
   "cell_type": "code",
   "execution_count": 90,
   "id": "49cd3b1c",
   "metadata": {},
   "outputs": [
    {
     "data": {
      "text/plain": [
       "18"
      ]
     },
     "execution_count": 90,
     "metadata": {},
     "output_type": "execute_result"
    }
   ],
   "source": [
    "test10(10,8)"
   ]
  },
  {
   "cell_type": "code",
   "execution_count": 92,
   "id": "39089050",
   "metadata": {},
   "outputs": [
    {
     "data": {
      "text/plain": [
       "'sudh ineuron'"
      ]
     },
     "execution_count": 92,
     "metadata": {},
     "output_type": "execute_result"
    }
   ],
   "source": [
    "test10(\"sudh\",\" ineuron\")"
   ]
  },
  {
   "cell_type": "code",
   "execution_count": 95,
   "id": "ab1cfbb0",
   "metadata": {},
   "outputs": [],
   "source": [
    "c=lambda a,b:a+b"
   ]
  },
  {
   "cell_type": "code",
   "execution_count": 96,
   "id": "4f411443",
   "metadata": {},
   "outputs": [
    {
     "data": {
      "text/plain": [
       "<function __main__.test10(a, b)>"
      ]
     },
     "execution_count": 96,
     "metadata": {},
     "output_type": "execute_result"
    }
   ],
   "source": [
    "test10"
   ]
  },
  {
   "cell_type": "code",
   "execution_count": 97,
   "id": "005e6771",
   "metadata": {},
   "outputs": [
    {
     "data": {
      "text/plain": [
       "'Sudh Ineuron'"
      ]
     },
     "execution_count": 97,
     "metadata": {},
     "output_type": "execute_result"
    }
   ],
   "source": [
    "c(\"Sudh\", \" Ineuron\")"
   ]
  },
  {
   "cell_type": "code",
   "execution_count": 98,
   "id": "2f641be6",
   "metadata": {},
   "outputs": [],
   "source": [
    "d=lambda a,b,c,d:a*b+c-d"
   ]
  },
  {
   "cell_type": "code",
   "execution_count": 99,
   "id": "c93dd240",
   "metadata": {},
   "outputs": [
    {
     "data": {
      "text/plain": [
       "1"
      ]
     },
     "execution_count": 99,
     "metadata": {},
     "output_type": "execute_result"
    }
   ],
   "source": [
    "d(1,2,3,4)"
   ]
  },
  {
   "cell_type": "code",
   "execution_count": 100,
   "id": "ce1770c9",
   "metadata": {},
   "outputs": [],
   "source": [
    "e=lambda*args:args"
   ]
  },
  {
   "cell_type": "code",
   "execution_count": 101,
   "id": "4b94e800",
   "metadata": {},
   "outputs": [
    {
     "data": {
      "text/plain": [
       "()"
      ]
     },
     "execution_count": 101,
     "metadata": {},
     "output_type": "execute_result"
    }
   ],
   "source": [
    "e()"
   ]
  },
  {
   "cell_type": "code",
   "execution_count": 102,
   "id": "a6a11a0d",
   "metadata": {},
   "outputs": [
    {
     "data": {
      "text/plain": [
       "(1, 2, 3)"
      ]
     },
     "execution_count": 102,
     "metadata": {},
     "output_type": "execute_result"
    }
   ],
   "source": [
    "e(1,2,3)"
   ]
  },
  {
   "cell_type": "code",
   "execution_count": 114,
   "id": "03bc53b1",
   "metadata": {},
   "outputs": [],
   "source": [
    "l=[1,2,3,4,5,6,7]\n"
   ]
  },
  {
   "cell_type": "code",
   "execution_count": 115,
   "id": "1f394bc9",
   "metadata": {},
   "outputs": [],
   "source": [
    "l1=[]\n",
    "for i in l:\n",
    "    l1.append(i+10)"
   ]
  },
  {
   "cell_type": "code",
   "execution_count": 116,
   "id": "70490975",
   "metadata": {},
   "outputs": [
    {
     "data": {
      "text/plain": [
       "[11, 12, 13, 14, 15, 16, 17]"
      ]
     },
     "execution_count": 116,
     "metadata": {},
     "output_type": "execute_result"
    }
   ],
   "source": [
    "l1"
   ]
  },
  {
   "cell_type": "code",
   "execution_count": 117,
   "id": "3c1839eb",
   "metadata": {},
   "outputs": [],
   "source": [
    "def test14(a):\n",
    "    return a+10"
   ]
  },
  {
   "cell_type": "code",
   "execution_count": 118,
   "id": "3ceb27ee",
   "metadata": {},
   "outputs": [
    {
     "data": {
      "text/plain": [
       "[11, 12, 13, 14, 15, 16, 17]"
      ]
     },
     "execution_count": 118,
     "metadata": {},
     "output_type": "execute_result"
    }
   ],
   "source": [
    "list(map(test14,l))"
   ]
  },
  {
   "cell_type": "code",
   "execution_count": 121,
   "id": "703001d9",
   "metadata": {},
   "outputs": [],
   "source": [
    "n=lambda a: a+10"
   ]
  },
  {
   "cell_type": "code",
   "execution_count": 122,
   "id": "c8618011",
   "metadata": {},
   "outputs": [
    {
     "data": {
      "text/plain": [
       "[11, 12, 13, 14, 15, 16, 17]"
      ]
     },
     "execution_count": 122,
     "metadata": {},
     "output_type": "execute_result"
    }
   ],
   "source": [
    "list(map(n,l))"
   ]
  },
  {
   "cell_type": "code",
   "execution_count": 123,
   "id": "c6305551",
   "metadata": {},
   "outputs": [],
   "source": [
    "l=[\"sudh\", \"kumar\", \"ineuron\"]"
   ]
  },
  {
   "cell_type": "code",
   "execution_count": 126,
   "id": "7b30ce62",
   "metadata": {},
   "outputs": [],
   "source": [
    "l1=[]\n",
    "for i in l:\n",
    "    l1.append(i.upper())\n"
   ]
  },
  {
   "cell_type": "code",
   "execution_count": 127,
   "id": "be4c7f80",
   "metadata": {},
   "outputs": [
    {
     "data": {
      "text/plain": [
       "['SUDH', 'KUMAR', 'INEURON']"
      ]
     },
     "execution_count": 127,
     "metadata": {},
     "output_type": "execute_result"
    }
   ],
   "source": [
    "l1"
   ]
  },
  {
   "cell_type": "code",
   "execution_count": 128,
   "id": "ac997832",
   "metadata": {},
   "outputs": [
    {
     "data": {
      "text/plain": [
       "['SUDH', 'KUMAR', 'INEURON']"
      ]
     },
     "execution_count": 128,
     "metadata": {},
     "output_type": "execute_result"
    }
   ],
   "source": [
    "list(map(lambda a:a.upper(),l))"
   ]
  },
  {
   "cell_type": "code",
   "execution_count": 3,
   "id": "c80fc0be",
   "metadata": {},
   "outputs": [],
   "source": [
    "a=\"tata\""
   ]
  },
  {
   "cell_type": "code",
   "execution_count": 4,
   "id": "1c021b66",
   "metadata": {},
   "outputs": [
    {
     "data": {
      "text/plain": [
       "4"
      ]
     },
     "execution_count": 4,
     "metadata": {},
     "output_type": "execute_result"
    }
   ],
   "source": [
    "len(a)"
   ]
  },
  {
   "cell_type": "code",
   "execution_count": 5,
   "id": "9fcd9b60",
   "metadata": {},
   "outputs": [
    {
     "ename": "NameError",
     "evalue": "name 'l' is not defined",
     "output_type": "error",
     "traceback": [
      "\u001b[1;31m---------------------------------------------------------------------------\u001b[0m",
      "\u001b[1;31mNameError\u001b[0m                                 Traceback (most recent call last)",
      "Input \u001b[1;32mIn [5]\u001b[0m, in \u001b[0;36m<cell line: 1>\u001b[1;34m()\u001b[0m\n\u001b[1;32m----> 1\u001b[0m \u001b[38;5;28mlist\u001b[39m(\u001b[38;5;28mmap\u001b[39m(\u001b[38;5;28mlen\u001b[39m,\u001b[43ml\u001b[49m))\n",
      "\u001b[1;31mNameError\u001b[0m: name 'l' is not defined"
     ]
    }
   ],
   "source": [
    "list(map(len,l))"
   ]
  },
  {
   "cell_type": "code",
   "execution_count": 8,
   "id": "fceb0ef2",
   "metadata": {},
   "outputs": [],
   "source": [
    "def test23(a):\n",
    "    return len(a)"
   ]
  },
  {
   "cell_type": "code",
   "execution_count": 9,
   "id": "ec9f260c",
   "metadata": {},
   "outputs": [
    {
     "data": {
      "text/plain": [
       "[1, 1, 1, 1]"
      ]
     },
     "execution_count": 9,
     "metadata": {},
     "output_type": "execute_result"
    }
   ],
   "source": [
    "list(map(test23,a))"
   ]
  },
  {
   "cell_type": "code",
   "execution_count": 14,
   "id": "78c32cfd",
   "metadata": {},
   "outputs": [],
   "source": [
    "l=[1,2,3,4,5,6,7,8]"
   ]
  },
  {
   "cell_type": "code",
   "execution_count": 18,
   "id": "363fcfa6",
   "metadata": {},
   "outputs": [],
   "source": [
    "l1=[]\n",
    "for i in l:\n",
    "    if i%2==0:\n",
    "        l1.append(i)"
   ]
  },
  {
   "cell_type": "code",
   "execution_count": 19,
   "id": "356ca1b5",
   "metadata": {},
   "outputs": [
    {
     "data": {
      "text/plain": [
       "[2, 4, 6, 8]"
      ]
     },
     "execution_count": 19,
     "metadata": {},
     "output_type": "execute_result"
    }
   ],
   "source": [
    "l1"
   ]
  },
  {
   "cell_type": "code",
   "execution_count": 20,
   "id": "1f1b9eb1",
   "metadata": {},
   "outputs": [
    {
     "data": {
      "text/plain": [
       "[1, 2, 3, 4, 5, 6, 7, 8]"
      ]
     },
     "execution_count": 20,
     "metadata": {},
     "output_type": "execute_result"
    }
   ],
   "source": [
    "l"
   ]
  },
  {
   "cell_type": "code",
   "execution_count": 21,
   "id": "8eef2d77",
   "metadata": {},
   "outputs": [
    {
     "data": {
      "text/plain": [
       "[2, 4, 6, 8]"
      ]
     },
     "execution_count": 21,
     "metadata": {},
     "output_type": "execute_result"
    }
   ],
   "source": [
    "[i for i in l if i%2==0]"
   ]
  },
  {
   "cell_type": "code",
   "execution_count": 22,
   "id": "605ca47f",
   "metadata": {},
   "outputs": [],
   "source": [
    "def test24(a):\n",
    "    l=[]\n",
    "    if type(a)==list:\n",
    "        for i in a:\n",
    "            if i%2==0:\n",
    "                l.append(i)\n",
    "    return(l)"
   ]
  },
  {
   "cell_type": "code",
   "execution_count": 23,
   "id": "7f9ecd8d",
   "metadata": {},
   "outputs": [
    {
     "data": {
      "text/plain": [
       "[2, 4, 6, 8]"
      ]
     },
     "execution_count": 23,
     "metadata": {},
     "output_type": "execute_result"
    }
   ],
   "source": [
    "test24(l)"
   ]
  },
  {
   "cell_type": "code",
   "execution_count": 31,
   "id": "29f866b1",
   "metadata": {},
   "outputs": [],
   "source": [
    "a=lambda a:a if a%2==0 else None \n"
   ]
  },
  {
   "cell_type": "code",
   "execution_count": 32,
   "id": "05cd68b9",
   "metadata": {},
   "outputs": [
    {
     "data": {
      "text/plain": [
       "<function __main__.<lambda>(a)>"
      ]
     },
     "execution_count": 32,
     "metadata": {},
     "output_type": "execute_result"
    }
   ],
   "source": [
    "a\n"
   ]
  },
  {
   "cell_type": "code",
   "execution_count": 33,
   "id": "9f3d26a6",
   "metadata": {},
   "outputs": [
    {
     "data": {
      "text/plain": [
       "[None, 2, None, 4, None, 6, None, 8]"
      ]
     },
     "execution_count": 33,
     "metadata": {},
     "output_type": "execute_result"
    }
   ],
   "source": [
    "list(map(a,l))"
   ]
  },
  {
   "cell_type": "code",
   "execution_count": 34,
   "id": "b37c22db",
   "metadata": {},
   "outputs": [
    {
     "data": {
      "text/plain": [
       "[2, 4, 6, 8]"
      ]
     },
     "execution_count": 34,
     "metadata": {},
     "output_type": "execute_result"
    }
   ],
   "source": [
    "list(filter(a,l))"
   ]
  },
  {
   "cell_type": "code",
   "execution_count": 35,
   "id": "10f1d70f",
   "metadata": {},
   "outputs": [],
   "source": [
    "#filter function works on true and false"
   ]
  },
  {
   "cell_type": "code",
   "execution_count": 38,
   "id": "dd05e36a",
   "metadata": {},
   "outputs": [],
   "source": [
    "def test25(a):\n",
    "    if a%2==0:\n",
    "        return True\n",
    "    else:\n",
    "        return False\n"
   ]
  },
  {
   "cell_type": "code",
   "execution_count": 39,
   "id": "34c5aa50",
   "metadata": {},
   "outputs": [
    {
     "data": {
      "text/plain": [
       "True"
      ]
     },
     "execution_count": 39,
     "metadata": {},
     "output_type": "execute_result"
    }
   ],
   "source": [
    "test25(32)"
   ]
  },
  {
   "cell_type": "markdown",
   "id": "6222fe60",
   "metadata": {},
   "source": [
    "# Reduce function"
   ]
  },
  {
   "cell_type": "code",
   "execution_count": 40,
   "id": "2c0ad2fc",
   "metadata": {},
   "outputs": [
    {
     "data": {
      "text/plain": [
       "[1, 2, 3, 4, 5, 6, 7, 8]"
      ]
     },
     "execution_count": 40,
     "metadata": {},
     "output_type": "execute_result"
    }
   ],
   "source": [
    "l"
   ]
  },
  {
   "cell_type": "code",
   "execution_count": 45,
   "id": "754d15b1",
   "metadata": {},
   "outputs": [],
   "source": [
    "from functools import reduce"
   ]
  },
  {
   "cell_type": "code",
   "execution_count": 46,
   "id": "6b6a2f93",
   "metadata": {},
   "outputs": [
    {
     "data": {
      "text/plain": [
       "40320"
      ]
     },
     "execution_count": 46,
     "metadata": {},
     "output_type": "execute_result"
    }
   ],
   "source": [
    "reduce ((lambda a,b:a*b),l)"
   ]
  },
  {
   "cell_type": "code",
   "execution_count": 47,
   "id": "a0d40f7b",
   "metadata": {},
   "outputs": [
    {
     "ename": "TypeError",
     "evalue": "<lambda>() missing 1 required positional argument: 'c'",
     "output_type": "error",
     "traceback": [
      "\u001b[1;31m---------------------------------------------------------------------------\u001b[0m",
      "\u001b[1;31mTypeError\u001b[0m                                 Traceback (most recent call last)",
      "Input \u001b[1;32mIn [47]\u001b[0m, in \u001b[0;36m<cell line: 1>\u001b[1;34m()\u001b[0m\n\u001b[1;32m----> 1\u001b[0m \u001b[43mreduce\u001b[49m\u001b[43m \u001b[49m\u001b[43m(\u001b[49m\u001b[43m(\u001b[49m\u001b[38;5;28;43;01mlambda\u001b[39;49;00m\u001b[43m \u001b[49m\u001b[43ma\u001b[49m\u001b[43m,\u001b[49m\u001b[43mb\u001b[49m\u001b[43m,\u001b[49m\u001b[43mc\u001b[49m\u001b[43m:\u001b[49m\u001b[43ma\u001b[49m\u001b[38;5;241;43m*\u001b[39;49m\u001b[43mb\u001b[49m\u001b[38;5;241;43m*\u001b[39;49m\u001b[43mc\u001b[49m\u001b[43m)\u001b[49m\u001b[43m,\u001b[49m\u001b[43ml\u001b[49m\u001b[43m)\u001b[49m\n",
      "\u001b[1;31mTypeError\u001b[0m: <lambda>() missing 1 required positional argument: 'c'"
     ]
    }
   ],
   "source": [
    "reduce ((lambda a,b,c:a*b*c),l)"
   ]
  },
  {
   "cell_type": "markdown",
   "id": "0fcb59d6",
   "metadata": {},
   "source": [
    "# IN reduce allways give 2 arguments"
   ]
  },
  {
   "cell_type": "code",
   "execution_count": 49,
   "id": "7cc436e5",
   "metadata": {},
   "outputs": [
    {
     "data": {
      "text/plain": [
       "384"
      ]
     },
     "execution_count": 49,
     "metadata": {},
     "output_type": "execute_result"
    }
   ],
   "source": [
    "la=[3]\n",
    "reduce(lambda a,b:a*b,l1)"
   ]
  },
  {
   "cell_type": "code",
   "execution_count": 50,
   "id": "abff1932",
   "metadata": {},
   "outputs": [
    {
     "data": {
      "text/plain": [
       "4"
      ]
     },
     "execution_count": 50,
     "metadata": {},
     "output_type": "execute_result"
    }
   ],
   "source": [
    "z=[4]\n",
    "reduce(lambda u,v:u*v,z)"
   ]
  },
  {
   "cell_type": "markdown",
   "id": "5a35e500",
   "metadata": {},
   "source": [
    "# above is the only exception in reduce function when we give single value"
   ]
  },
  {
   "cell_type": "code",
   "execution_count": 68,
   "id": "93b2b94e",
   "metadata": {},
   "outputs": [],
   "source": [
    "def test26(a: int ,b:\"func\", c:int =234)-> int:\n",
    "    ''' This is my doc string to give a hint to next programmer'''\n",
    "    return a +b +str(c)"
   ]
  },
  {
   "cell_type": "code",
   "execution_count": 69,
   "id": "2ea97d28",
   "metadata": {},
   "outputs": [
    {
     "data": {
      "text/plain": [
       "'SudhKumar234'"
      ]
     },
     "execution_count": 69,
     "metadata": {},
     "output_type": "execute_result"
    }
   ],
   "source": [
    "test26(\"Sudh\", \"Kumar\")"
   ]
  },
  {
   "cell_type": "code",
   "execution_count": 67,
   "id": "40e1344e",
   "metadata": {},
   "outputs": [],
   "source": [
    "#-> in function means hint to a programmer that int should be given as input"
   ]
  },
  {
   "cell_type": "code",
   "execution_count": 1,
   "id": "7aa89090",
   "metadata": {},
   "outputs": [],
   "source": [
    "abc=\"hello\""
   ]
  },
  {
   "cell_type": "code",
   "execution_count": 2,
   "id": "9150b85b",
   "metadata": {},
   "outputs": [
    {
     "data": {
      "text/plain": [
       "str"
      ]
     },
     "execution_count": 2,
     "metadata": {},
     "output_type": "execute_result"
    }
   ],
   "source": [
    "type(abc)"
   ]
  },
  {
   "cell_type": "code",
   "execution_count": null,
   "id": "1fa2dee2",
   "metadata": {},
   "outputs": [],
   "source": []
  }
 ],
 "metadata": {
  "kernelspec": {
   "display_name": "Python 3 (ipykernel)",
   "language": "python",
   "name": "python3"
  },
  "language_info": {
   "codemirror_mode": {
    "name": "ipython",
    "version": 3
   },
   "file_extension": ".py",
   "mimetype": "text/x-python",
   "name": "python",
   "nbconvert_exporter": "python",
   "pygments_lexer": "ipython3",
   "version": "3.9.12"
  }
 },
 "nbformat": 4,
 "nbformat_minor": 5
}
